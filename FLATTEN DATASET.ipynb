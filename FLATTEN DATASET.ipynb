{
 "cells": [
  {
   "cell_type": "code",
   "execution_count": 1,
   "id": "f539e2fa",
   "metadata": {},
   "outputs": [],
   "source": [
    "import pandas as pd \n",
    "import numpy as np \n",
    "df1=pd.read_csv(r\"C:\\Users\\jsjat\\Desktop\\DATASET\\tmdb_5000_credits.csv\")\n",
    "df2=pd.read_csv(r\"C:\\Users\\jsjat\\Desktop\\DATASET\\tmdb_5000_movies.csv\")\n"
   ]
  },
  {
   "cell_type": "code",
   "execution_count": 4,
   "id": "1c3f2697",
   "metadata": {},
   "outputs": [],
   "source": [
    "import pandas as pd\n",
    "import ast\n",
    "import pickle\n",
    "import bz2\n",
    "#getting Movie Details\n",
    "credits=pd.read_csv(r\"C:\\Users\\jsjat\\Desktop\\DATASET\\tmdb_5000_credits.csv\")\n",
    "movie=pd.read_csv(r\"C:\\Users\\jsjat\\Desktop\\DATASET\\tmdb_5000_movies.csv\")\n",
    "df=movie.merge(credits,how='left',right_on='movie_id',left_on='id')\n",
    "#Selecting Useful Data\n",
    "df=df[['genres','movie_id','keywords','overview',\"title_x\",'cast','crew','popularity','original_language'\n",
    "      ,'release_date','vote_average']]\n",
    "\n",
    "\n",
    "#Data Cleaning\n",
    "def call(text):\n",
    "    lis = []\n",
    "    text = ast.literal_eval(text)\n",
    "    for i in text:\n",
    "        lis.append(i['name'])\n",
    "\n",
    "    return lis\n",
    "df['genres'] = [call(i) for i in df['genres']]\n",
    "\n",
    "df['keywords']=[call(i) for i in df['keywords']]\n",
    "\n",
    "def call3(text):\n",
    "    a=0\n",
    "    lis=[]\n",
    "    text=ast.literal_eval(text)\n",
    "    for i in text:\n",
    "        if(a!=3):\n",
    "            lis.append(i['name'])\n",
    "            a=a+1\n",
    "        else:\n",
    "            break\n",
    "    return lis\n",
    "\n",
    "df['cast']=[call3(i) for i in df['cast']]\n",
    "\n",
    "def call2(text):\n",
    "    a=0\n",
    "    lis=[]\n",
    "    text=ast.literal_eval(text)\n",
    "    for i in text:\n",
    "        if((i['job']=='Director' or i['job']=='Writer')):\n",
    "            lis.append(i['name'])\n",
    "    return lis\n",
    "\n",
    "df['crew']=[call2(i) for i in df['crew']]\n",
    "\n",
    "df['cast']=df['cast'].apply(lambda x:[i.replace(\" \",\"\") for i in x])\n",
    "df['movie_name']=df['title_x']\n",
    "df['keywords']=df['keywords'].apply(lambda x:[i.replace(\" \",\"\") for i in x])\n",
    "df['genres']=df['genres'].apply(lambda x:[i.replace(\" \",\"\") for i in x])\n",
    "df['crew']=df['crew'].apply(lambda x:[i.replace(\" \",\"\") for i in x])\n",
    "data_df=df\n",
    "\n",
    "def call(text):\n",
    "    lis=[]\n",
    "    lis.append(text)\n",
    "    return lis\n",
    "df['movie_name']=df['movie_name'].apply(call)"
   ]
  },
  {
   "cell_type": "code",
   "execution_count": null,
   "id": "3cc32096",
   "metadata": {},
   "outputs": [],
   "source": [
    "df['poster']=df['movie_name'].apply(fetch_poster)"
   ]
  },
  {
   "cell_type": "code",
   "execution_count": 14,
   "id": "554411df",
   "metadata": {},
   "outputs": [],
   "source": [
    "df.to_csv(\"Final_Data.csv\")"
   ]
  },
  {
   "cell_type": "code",
   "execution_count": null,
   "id": "f31dff7b",
   "metadata": {},
   "outputs": [],
   "source": []
  }
 ],
 "metadata": {
  "kernelspec": {
   "display_name": "Python 3 (ipykernel)",
   "language": "python",
   "name": "python3"
  },
  "language_info": {
   "codemirror_mode": {
    "name": "ipython",
    "version": 3
   },
   "file_extension": ".py",
   "mimetype": "text/x-python",
   "name": "python",
   "nbconvert_exporter": "python",
   "pygments_lexer": "ipython3",
   "version": "3.11.5"
  }
 },
 "nbformat": 4,
 "nbformat_minor": 5
}
